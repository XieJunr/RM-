version https://git-lfs.github.com/spec/v1
oid sha256:160bf6f109b8dd06edf3906ed409a4f9dd27745bdbc2fa5884c0d817862f7a25
size 24196
