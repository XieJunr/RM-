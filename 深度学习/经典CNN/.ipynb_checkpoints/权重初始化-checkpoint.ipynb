version https://git-lfs.github.com/spec/v1
oid sha256:902a84f5b02ebda5adbb6945eb4bde7558900819af2b27f32ae6c45ba3d8759e
size 1322
