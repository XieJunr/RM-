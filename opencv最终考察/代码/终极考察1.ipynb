{
 "cells": [
  {
   "cell_type": "code",
   "execution_count": 1,
   "id": "90ffb294",
   "metadata": {},
   "outputs": [],
   "source": [
    "import cv2\n",
    "import numpy as np\n",
    "%run D:\\python3\\opencv.py"
   ]
  },
  {
   "cell_type": "code",
   "execution_count": 2,
   "id": "31ee956d",
   "metadata": {},
   "outputs": [],
   "source": [
    "img = Cn_imread('终极考察1.jpg')\n",
    "img1 = cv2.cvtColor(img,cv2.COLOR_BGR2GRAY)"
   ]
  },
  {
   "cell_type": "code",
   "execution_count": 3,
   "id": "7e29c937",
   "metadata": {},
   "outputs": [],
   "source": [
    "ret,dst = cv2.threshold(img1,100,255,cv2.THRESH_BINARY_INV)"
   ]
  },
  {
   "cell_type": "code",
   "execution_count": 4,
   "id": "37186c91",
   "metadata": {},
   "outputs": [],
   "source": [
    "cvshow('win',np.hstack([img1,dst]))"
   ]
  },
  {
   "cell_type": "code",
   "execution_count": 5,
   "id": "ed5b6df0",
   "metadata": {},
   "outputs": [],
   "source": [
    "cnt = cv2.findContours(dst,cv2.RETR_TREE,cv2.CHAIN_APPROX_NONE)[0]"
   ]
  },
  {
   "cell_type": "code",
   "execution_count": 6,
   "id": "068c899d",
   "metadata": {},
   "outputs": [],
   "source": [
    "for i in cnt:\n",
    "    x,y,w,h = cv2.boundingRect(i)\n",
    "    if w*0.9 <= h <= w*1.1 and 2.7*h*h/4< cv2.contourArea(i) <3.5*h*h/4:\n",
    "        cv2.drawContours(img,[i],-1,(0,0,255),-1)"
   ]
  },
  {
   "cell_type": "code",
   "execution_count": 7,
   "id": "7012b173",
   "metadata": {},
   "outputs": [],
   "source": [
    "cvshow('win',img)"
   ]
  },
  {
   "cell_type": "code",
   "execution_count": null,
   "id": "c8a82a6b",
   "metadata": {},
   "outputs": [],
   "source": []
  }
 ],
 "metadata": {
  "kernelspec": {
   "display_name": "Python 3 (ipykernel)",
   "language": "python",
   "name": "python3"
  },
  "language_info": {
   "codemirror_mode": {
    "name": "ipython",
    "version": 3
   },
   "file_extension": ".py",
   "mimetype": "text/x-python",
   "name": "python",
   "nbconvert_exporter": "python",
   "pygments_lexer": "ipython3",
   "version": "3.9.13"
  }
 },
 "nbformat": 4,
 "nbformat_minor": 5
}
