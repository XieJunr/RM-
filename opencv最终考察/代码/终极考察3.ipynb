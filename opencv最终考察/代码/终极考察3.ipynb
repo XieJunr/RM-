{
 "cells": [
  {
   "cell_type": "code",
   "execution_count": 13,
   "id": "7ec7a697",
   "metadata": {},
   "outputs": [],
   "source": [
    "import cv2\n",
    "import numpy as np\n",
    "%run D:\\python3\\opencv.py"
   ]
  },
  {
   "cell_type": "code",
   "execution_count": 14,
   "id": "b0b520d6",
   "metadata": {},
   "outputs": [],
   "source": [
    "img = Cn_imread('终极考察3.jpg')\n",
    "img1 = cv2.cvtColor(img,cv2.COLOR_BGR2HSV)\n",
    "img2 = cv2.cvtColor(img,cv2.COLOR_BGR2GRAY)"
   ]
  },
  {
   "cell_type": "code",
   "execution_count": 15,
   "id": "9877184f",
   "metadata": {},
   "outputs": [],
   "source": [
    "lower = np.array([0,100,100])\n",
    "upper = np.array([15,255,255])\n",
    "new1 = cv2.inRange(img1,lower,upper)\n",
    "lower = np.array([160,60,60])\n",
    "upper = np.array([179,255,255])\n",
    "new2 = cv2.inRange(img1,lower,upper)\n",
    "new = cv2.add(new1,new2)"
   ]
  },
  {
   "cell_type": "code",
   "execution_count": 16,
   "id": "c99f2e11",
   "metadata": {},
   "outputs": [],
   "source": [
    "cvshow('win',np.hstack([new,img2]))"
   ]
  },
  {
   "cell_type": "code",
   "execution_count": 17,
   "id": "07aa6620",
   "metadata": {},
   "outputs": [],
   "source": [
    "kernel = np.ones((3,3),np.uint8) \n",
    "open = cv2.morphologyEx(new,cv2.MORPH_OPEN,kernel) #开运算"
   ]
  },
  {
   "cell_type": "code",
   "execution_count": 18,
   "id": "078cd6c9",
   "metadata": {},
   "outputs": [],
   "source": [
    "cvshow('win',np.hstack([new,open]))"
   ]
  },
  {
   "cell_type": "code",
   "execution_count": 19,
   "id": "572cf6b7",
   "metadata": {},
   "outputs": [],
   "source": [
    "kernel = np.ones((5,5),np.uint8) #核\n",
    "close = cv2.morphologyEx(open,cv2.MORPH_CLOSE,kernel) "
   ]
  },
  {
   "cell_type": "code",
   "execution_count": 20,
   "id": "de28ed0d",
   "metadata": {},
   "outputs": [],
   "source": [
    "cvshow('win',close)"
   ]
  },
  {
   "cell_type": "code",
   "execution_count": 21,
   "id": "843bf025",
   "metadata": {},
   "outputs": [],
   "source": [
    "cnt = cv2.findContours(close,cv2.RETR_TREE,cv2.CHAIN_APPROX_NONE)[0]\n",
    "cnt = sorted(cnt, key=lambda x: cv2.contourArea(x),reverse=True)[0]"
   ]
  },
  {
   "cell_type": "code",
   "execution_count": 12,
   "id": "e2adb9ed",
   "metadata": {},
   "outputs": [],
   "source": [
    "x,y,w,h = cv2.boundingRect(cnt)\n",
    "img = cv2.rectangle(img,(x,y),(x+w,y+h),(0,255,0),2)\n",
    "cvshow('win',img)"
   ]
  },
  {
   "cell_type": "code",
   "execution_count": null,
   "id": "7447d73d",
   "metadata": {},
   "outputs": [],
   "source": []
  },
  {
   "cell_type": "code",
   "execution_count": null,
   "id": "def61256",
   "metadata": {},
   "outputs": [],
   "source": []
  }
 ],
 "metadata": {
  "kernelspec": {
   "display_name": "Python 3 (ipykernel)",
   "language": "python",
   "name": "python3"
  },
  "language_info": {
   "codemirror_mode": {
    "name": "ipython",
    "version": 3
   },
   "file_extension": ".py",
   "mimetype": "text/x-python",
   "name": "python",
   "nbconvert_exporter": "python",
   "pygments_lexer": "ipython3",
   "version": "3.9.13"
  }
 },
 "nbformat": 4,
 "nbformat_minor": 5
}
