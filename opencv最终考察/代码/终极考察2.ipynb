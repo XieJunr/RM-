{
 "cells": [
  {
   "cell_type": "code",
   "execution_count": 1,
   "id": "e027607b",
   "metadata": {},
   "outputs": [],
   "source": [
    "import cv2\n",
    "import numpy as np\n",
    "%run D:\\python3\\opencv.py"
   ]
  },
  {
   "cell_type": "code",
   "execution_count": 2,
   "id": "5f98c8be",
   "metadata": {},
   "outputs": [],
   "source": [
    "img = Cn_imread('终极考察2.jpg')\n",
    "img1 = cv2.cvtColor(img,cv2.COLOR_BGR2GRAY)"
   ]
  },
  {
   "cell_type": "code",
   "execution_count": 3,
   "id": "fc628f8b",
   "metadata": {},
   "outputs": [],
   "source": [
    "ret,dst = cv2.threshold(img1,170,255,cv2.THRESH_BINARY)"
   ]
  },
  {
   "cell_type": "code",
   "execution_count": 4,
   "id": "0cbff7b5",
   "metadata": {},
   "outputs": [],
   "source": [
    "cvshow('win',np.hstack([img1,dst]))"
   ]
  },
  {
   "cell_type": "code",
   "execution_count": 5,
   "id": "03a948b3",
   "metadata": {},
   "outputs": [],
   "source": [
    "cnt = cv2.findContours(dst,cv2.RETR_TREE,cv2.CHAIN_APPROX_NONE)[0]\n",
    "cnt = sorted(cnt, key=lambda x: cv2.contourArea(x),reverse=True)[0]"
   ]
  },
  {
   "cell_type": "code",
   "execution_count": null,
   "id": "e6fbadcf",
   "metadata": {},
   "outputs": [],
   "source": [
    "x,y,w,h = cv2.boundingRect(cnt)\n",
    "img = cv2.rectangle(img,(x,y),(x+w,y+h),(0,255,0),2)\n",
    "cvshow('win',img)"
   ]
  },
  {
   "cell_type": "code",
   "execution_count": null,
   "id": "3a012056",
   "metadata": {},
   "outputs": [],
   "source": []
  }
 ],
 "metadata": {
  "kernelspec": {
   "display_name": "Python 3 (ipykernel)",
   "language": "python",
   "name": "python3"
  },
  "language_info": {
   "codemirror_mode": {
    "name": "ipython",
    "version": 3
   },
   "file_extension": ".py",
   "mimetype": "text/x-python",
   "name": "python",
   "nbconvert_exporter": "python",
   "pygments_lexer": "ipython3",
   "version": "3.9.13"
  }
 },
 "nbformat": 4,
 "nbformat_minor": 5
}
